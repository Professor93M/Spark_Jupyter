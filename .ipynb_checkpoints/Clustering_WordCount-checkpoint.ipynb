{
 "cells": [
  {
   "cell_type": "code",
   "execution_count": 1,
   "id": "bf18911f",
   "metadata": {},
   "outputs": [],
   "source": [
    "import findspark\n",
    "findspark.init()"
   ]
  },
  {
   "cell_type": "code",
   "execution_count": 2,
   "id": "44cdf284",
   "metadata": {},
   "outputs": [],
   "source": [
    "from pyspark.sql import SparkSession\n",
    "spark = SparkSession.builder\\\n",
    "                    .master(\"local\")\\\n",
    "                    .appName(\"word count\")\\\n",
    "                    .getOrCreate()\n",
    "sc = spark.sparkContext"
   ]
  },
  {
   "cell_type": "code",
   "execution_count": 3,
   "id": "fc0ab9f9",
   "metadata": {},
   "outputs": [
    {
     "data": {
      "text/plain": [
       "['Hello this is me I want to show you how can I see this course for Spark shell',\n",
       " \"this course is Hello World it's easy one and I want you to see Spark it easy too\",\n",
       " 'thank you so much',\n",
       " 'thank you']"
      ]
     },
     "execution_count": 3,
     "metadata": {},
     "output_type": "execute_result"
    }
   ],
   "source": [
    "lines = sc.textFile(\"C:\\\\Users\\\\J1\\\\Desktop\\\\text.txt\")\n",
    "lines.collect()"
   ]
  },
  {
   "cell_type": "code",
   "execution_count": 4,
   "id": "2f28a73a",
   "metadata": {},
   "outputs": [],
   "source": [
    "new = lines.flatMap(lambda x: x.split(' '))\\\n",
    "                        .map(lambda x: (x, 1))\\\n",
    "                        .reduceByKey(lambda x, y: x+y)"
   ]
  },
  {
   "cell_type": "code",
   "execution_count": 5,
   "id": "1206725b",
   "metadata": {
    "scrolled": true
   },
   "outputs": [
    {
     "data": {
      "text/plain": [
       "[('Hello', 2),\n",
       " ('this', 3),\n",
       " ('is', 2),\n",
       " ('me', 1),\n",
       " ('I', 3),\n",
       " ('want', 2),\n",
       " ('to', 2),\n",
       " ('show', 1),\n",
       " ('you', 4),\n",
       " ('how', 1),\n",
       " ('can', 1),\n",
       " ('see', 2),\n",
       " ('course', 2),\n",
       " ('for', 1),\n",
       " ('Spark', 2),\n",
       " ('shell', 1),\n",
       " ('World', 1),\n",
       " (\"it's\", 1),\n",
       " ('easy', 2),\n",
       " ('one', 1),\n",
       " ('and', 1),\n",
       " ('it', 1),\n",
       " ('too', 1),\n",
       " ('thank', 2),\n",
       " ('so', 1),\n",
       " ('much', 1)]"
      ]
     },
     "execution_count": 5,
     "metadata": {},
     "output_type": "execute_result"
    }
   ],
   "source": [
    "new.collect()"
   ]
  }
 ],
 "metadata": {
  "kernelspec": {
   "display_name": "Python 3 (ipykernel)",
   "language": "python",
   "name": "python3"
  },
  "language_info": {
   "codemirror_mode": {
    "name": "ipython",
    "version": 3
   },
   "file_extension": ".py",
   "mimetype": "text/x-python",
   "name": "python",
   "nbconvert_exporter": "python",
   "pygments_lexer": "ipython3",
   "version": "3.9.7"
  }
 },
 "nbformat": 4,
 "nbformat_minor": 5
}
