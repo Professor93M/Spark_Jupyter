{
 "cells": [
  {
   "cell_type": "code",
   "execution_count": 1,
   "id": "44cdf284",
   "metadata": {},
   "outputs": [],
   "source": [
    "import pyspark\n",
    "import pandas as pd"
   ]
  },
  {
   "cell_type": "code",
   "execution_count": 3,
   "id": "fc0ab9f9",
   "metadata": {},
   "outputs": [
    {
     "data": {
      "text/html": [
       "<div>\n",
       "<style scoped>\n",
       "    .dataframe tbody tr th:only-of-type {\n",
       "        vertical-align: middle;\n",
       "    }\n",
       "\n",
       "    .dataframe tbody tr th {\n",
       "        vertical-align: top;\n",
       "    }\n",
       "\n",
       "    .dataframe thead th {\n",
       "        text-align: right;\n",
       "    }\n",
       "</style>\n",
       "<table border=\"1\" class=\"dataframe\">\n",
       "  <thead>\n",
       "    <tr style=\"text-align: right;\">\n",
       "      <th></th>\n",
       "      <th>ID</th>\n",
       "      <th>Name</th>\n",
       "      <th>Age</th>\n",
       "      <th>Salary</th>\n",
       "    </tr>\n",
       "  </thead>\n",
       "  <tbody>\n",
       "    <tr>\n",
       "      <th>0</th>\n",
       "      <td>1</td>\n",
       "      <td>Ali</td>\n",
       "      <td>30</td>\n",
       "      <td>2000</td>\n",
       "    </tr>\n",
       "    <tr>\n",
       "      <th>1</th>\n",
       "      <td>2</td>\n",
       "      <td>Ahmed</td>\n",
       "      <td>23</td>\n",
       "      <td>233</td>\n",
       "    </tr>\n",
       "    <tr>\n",
       "      <th>2</th>\n",
       "      <td>3</td>\n",
       "      <td>Mohammed</td>\n",
       "      <td>22</td>\n",
       "      <td>123</td>\n",
       "    </tr>\n",
       "    <tr>\n",
       "      <th>3</th>\n",
       "      <td>4</td>\n",
       "      <td>Saad</td>\n",
       "      <td>15</td>\n",
       "      <td>100</td>\n",
       "    </tr>\n",
       "    <tr>\n",
       "      <th>4</th>\n",
       "      <td>5</td>\n",
       "      <td>Kareem</td>\n",
       "      <td>39</td>\n",
       "      <td>2300</td>\n",
       "    </tr>\n",
       "  </tbody>\n",
       "</table>\n",
       "</div>"
      ],
      "text/plain": [
       "   ID      Name  Age  Salary\n",
       "0   1       Ali   30    2000\n",
       "1   2     Ahmed   23     233\n",
       "2   3  Mohammed   22     123\n",
       "3   4      Saad   15     100\n",
       "4   5    Kareem   39    2300"
      ]
     },
     "execution_count": 3,
     "metadata": {},
     "output_type": "execute_result"
    }
   ],
   "source": [
    "pd.read_csv('sql.csv')"
   ]
  },
  {
   "cell_type": "code",
   "execution_count": 4,
   "id": "2f28a73a",
   "metadata": {},
   "outputs": [],
   "source": [
    "from pyspark.sql import SparkSession"
   ]
  },
  {
   "cell_type": "code",
   "execution_count": 5,
   "id": "ade6d792",
   "metadata": {},
   "outputs": [],
   "source": [
    "spark = SparkSession.builder.appName('Practise').getOrCreate()"
   ]
  },
  {
   "cell_type": "code",
   "execution_count": 6,
   "id": "7774a70f",
   "metadata": {},
   "outputs": [
    {
     "data": {
      "text/html": [
       "\n",
       "            <div>\n",
       "                <p><b>SparkSession - in-memory</b></p>\n",
       "                \n",
       "        <div>\n",
       "            <p><b>SparkContext</b></p>\n",
       "\n",
       "            <p><a href=\"http://Professor:4040\">Spark UI</a></p>\n",
       "\n",
       "            <dl>\n",
       "              <dt>Version</dt>\n",
       "                <dd><code>v3.2.1</code></dd>\n",
       "              <dt>Master</dt>\n",
       "                <dd><code>local[*]</code></dd>\n",
       "              <dt>AppName</dt>\n",
       "                <dd><code>Practise</code></dd>\n",
       "            </dl>\n",
       "        </div>\n",
       "        \n",
       "            </div>\n",
       "        "
      ],
      "text/plain": [
       "<pyspark.sql.session.SparkSession at 0x1c22b18e1f0>"
      ]
     },
     "execution_count": 6,
     "metadata": {},
     "output_type": "execute_result"
    }
   ],
   "source": [
    "spark"
   ]
  },
  {
   "cell_type": "code",
   "execution_count": 7,
   "id": "fbd8a5a8",
   "metadata": {},
   "outputs": [],
   "source": [
    "table = spark.read.csv('sql.csv')\n",
    "table = spark.read.option('header', 'true').csv('sql.csv', inferSchema=True)"
   ]
  },
  {
   "cell_type": "code",
   "execution_count": 26,
   "id": "e9fce74a",
   "metadata": {},
   "outputs": [
    {
     "name": "stdout",
     "output_type": "stream",
     "text": [
      "root\n",
      " |-- ID: integer (nullable = true)\n",
      " |-- Name: string (nullable = true)\n",
      " |-- Age: integer (nullable = true)\n",
      " |-- Salary: integer (nullable = true)\n",
      "\n"
     ]
    }
   ],
   "source": [
    "table.printSchema()"
   ]
  },
  {
   "cell_type": "code",
   "execution_count": 27,
   "id": "22f9291c",
   "metadata": {},
   "outputs": [
    {
     "name": "stdout",
     "output_type": "stream",
     "text": [
      "+---+--------+---+------+\n",
      "| ID|    Name|Age|Salary|\n",
      "+---+--------+---+------+\n",
      "|  1|     Ali| 30|  2000|\n",
      "|  2|   Ahmed| 23|   233|\n",
      "|  3|Mohammed| 22|   123|\n",
      "|  4|    Saad| 15|   100|\n",
      "|  5|  Kareem| 39|  2300|\n",
      "+---+--------+---+------+\n",
      "\n"
     ]
    }
   ],
   "source": [
    "table.show()"
   ]
  },
  {
   "cell_type": "code",
   "execution_count": 28,
   "id": "03a6b002",
   "metadata": {},
   "outputs": [
    {
     "name": "stdout",
     "output_type": "stream",
     "text": [
      "+--------+---+\n",
      "|    Name|Age|\n",
      "+--------+---+\n",
      "|     Ali| 30|\n",
      "|   Ahmed| 23|\n",
      "|Mohammed| 22|\n",
      "|    Saad| 15|\n",
      "|  Kareem| 39|\n",
      "+--------+---+\n",
      "\n"
     ]
    }
   ],
   "source": [
    "table.select(['Name', 'Age']).show()"
   ]
  },
  {
   "cell_type": "code",
   "execution_count": 32,
   "id": "3e9c8e0d",
   "metadata": {},
   "outputs": [
    {
     "name": "stdout",
     "output_type": "stream",
     "text": [
      "+---+---------+---+------+\n",
      "| ID|FirstName|Age|Salary|\n",
      "+---+---------+---+------+\n",
      "|  1|      Ali| 30|  2000|\n",
      "|  2|    Ahmed| 23|   233|\n",
      "|  3| Mohammed| 22|   123|\n",
      "|  4|     Saad| 15|   100|\n",
      "|  5|   Kareem| 39|  2300|\n",
      "+---+---------+---+------+\n",
      "\n"
     ]
    }
   ],
   "source": [
    "table.withColumnRenamed('Name', 'FirstName').show()"
   ]
  },
  {
   "cell_type": "code",
   "execution_count": 40,
   "id": "8241272b",
   "metadata": {},
   "outputs": [
    {
     "name": "stdout",
     "output_type": "stream",
     "text": [
      "+---+--------+---+------+-----+\n",
      "| ID|    Name|Age|Salary|  Tax|\n",
      "+---+--------+---+------+-----+\n",
      "|  1|     Ali| 30|  2000|400.0|\n",
      "|  2|   Ahmed| 23|   233| 46.6|\n",
      "|  3|Mohammed| 22|   123| 24.6|\n",
      "|  4|    Saad| 15|   100| 20.0|\n",
      "|  5|  Kareem| 39|  2300|460.0|\n",
      "+---+--------+---+------+-----+\n",
      "\n"
     ]
    }
   ],
   "source": [
    "table.withColumn('Tax', table['Salary']*0.2).show()"
   ]
  },
  {
   "cell_type": "code",
   "execution_count": 33,
   "id": "9a3d79bc",
   "metadata": {},
   "outputs": [
    {
     "name": "stdout",
     "output_type": "stream",
     "text": [
      "+---+--------+------+\n",
      "| ID|    Name|Salary|\n",
      "+---+--------+------+\n",
      "|  1|     Ali|  2000|\n",
      "|  2|   Ahmed|   233|\n",
      "|  3|Mohammed|   123|\n",
      "|  4|    Saad|   100|\n",
      "|  5|  Kareem|  2300|\n",
      "+---+--------+------+\n",
      "\n"
     ]
    }
   ],
   "source": [
    "removeAge = table.drop('Age')\n",
    "removeAge.show()"
   ]
  },
  {
   "cell_type": "code",
   "execution_count": 36,
   "id": "465dd53a",
   "metadata": {},
   "outputs": [
    {
     "name": "stdout",
     "output_type": "stream",
     "text": [
      "+---+------+---+------+\n",
      "| ID|  Name|Age|Salary|\n",
      "+---+------+---+------+\n",
      "|  1|   Ali| 30|  2000|\n",
      "|  5|Kareem| 39|  2300|\n",
      "+---+------+---+------+\n",
      "\n"
     ]
    }
   ],
   "source": [
    "table.filter('Age >= 25').show()"
   ]
  }
 ],
 "metadata": {
  "kernelspec": {
   "display_name": "Python 3 (ipykernel)",
   "language": "python",
   "name": "python3"
  },
  "language_info": {
   "codemirror_mode": {
    "name": "ipython",
    "version": 3
   },
   "file_extension": ".py",
   "mimetype": "text/x-python",
   "name": "python",
   "nbconvert_exporter": "python",
   "pygments_lexer": "ipython3",
   "version": "3.9.7"
  }
 },
 "nbformat": 4,
 "nbformat_minor": 5
}
