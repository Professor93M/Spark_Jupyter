{
 "cells": [
  {
   "cell_type": "code",
   "execution_count": 2,
   "id": "bf18911f",
   "metadata": {},
   "outputs": [],
   "source": [
    "import findspark\n",
    "findspark.init()"
   ]
  },
  {
   "cell_type": "code",
   "execution_count": 3,
   "id": "44cdf284",
   "metadata": {},
   "outputs": [],
   "source": [
    "from pyspark.sql import SparkSession\n",
    "spark = SparkSession.builder\\\n",
    "                    .master(\"local\")\\\n",
    "                    .appName(\"word count\")\\\n",
    "                    .getOrCreate()\n",
    "sc = spark.sparkContext"
   ]
  },
  {
   "cell_type": "code",
   "execution_count": 5,
   "id": "fc0ab9f9",
   "metadata": {},
   "outputs": [
    {
     "data": {
      "text/plain": [
       "['On the speed side, Spark extends the popular MapReduce model to efficiently support more types of computations, including interactive queries and stream processing. Speed is important in processing large datasets, as it means the difference between exploring data interactively and waiting minutes or hours.']"
      ]
     },
     "execution_count": 5,
     "metadata": {},
     "output_type": "execute_result"
    }
   ],
   "source": [
    "lines = sc.textFile(\"C:\\\\Users\\\\J1\\\\Desktop\\\\Untitled Folder\\\\text.txt\")\n",
    "lines.collect()"
   ]
  },
  {
   "cell_type": "code",
   "execution_count": 6,
   "id": "2f28a73a",
   "metadata": {},
   "outputs": [],
   "source": [
    "new = lines.flatMap(lambda x: x.split(' '))\\\n",
    "                        .map(lambda x: (x, 1))\\\n",
    "                        .reduceByKey(lambda x, y: x+y)"
   ]
  },
  {
   "cell_type": "code",
   "execution_count": 7,
   "id": "1206725b",
   "metadata": {
    "scrolled": false
   },
   "outputs": [
    {
     "data": {
      "text/plain": [
       "[('On', 1),\n",
       " ('the', 3),\n",
       " ('speed', 1),\n",
       " ('side,', 1),\n",
       " ('Spark', 1),\n",
       " ('extends', 1),\n",
       " ('popular', 1),\n",
       " ('MapReduce', 1),\n",
       " ('model', 1),\n",
       " ('to', 1),\n",
       " ('efficiently', 1),\n",
       " ('support', 1),\n",
       " ('more', 1),\n",
       " ('types', 1),\n",
       " ('of', 1),\n",
       " ('computations,', 1),\n",
       " ('including', 1),\n",
       " ('interactive', 1),\n",
       " ('queries', 1),\n",
       " ('and', 2),\n",
       " ('stream', 1),\n",
       " ('processing.', 1),\n",
       " ('Speed', 1),\n",
       " ('is', 1),\n",
       " ('important', 1),\n",
       " ('in', 1),\n",
       " ('processing', 1),\n",
       " ('large', 1),\n",
       " ('datasets,', 1),\n",
       " ('as', 1),\n",
       " ('it', 1),\n",
       " ('means', 1),\n",
       " ('difference', 1),\n",
       " ('between', 1),\n",
       " ('exploring', 1),\n",
       " ('data', 1),\n",
       " ('interactively', 1),\n",
       " ('waiting', 1),\n",
       " ('minutes', 1),\n",
       " ('or', 1),\n",
       " ('hours.', 1)]"
      ]
     },
     "execution_count": 7,
     "metadata": {},
     "output_type": "execute_result"
    }
   ],
   "source": [
    "new.collect()"
   ]
  }
 ],
 "metadata": {
  "kernelspec": {
   "display_name": "Python 3 (ipykernel)",
   "language": "python",
   "name": "python3"
  },
  "language_info": {
   "codemirror_mode": {
    "name": "ipython",
    "version": 3
   },
   "file_extension": ".py",
   "mimetype": "text/x-python",
   "name": "python",
   "nbconvert_exporter": "python",
   "pygments_lexer": "ipython3",
   "version": "3.9.7"
  }
 },
 "nbformat": 4,
 "nbformat_minor": 5
}
